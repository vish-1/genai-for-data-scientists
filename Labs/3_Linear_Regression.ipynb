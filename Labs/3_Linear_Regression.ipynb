{
  "cells": [
    {
      "cell_type": "markdown",
      "metadata": {
        "collapsed": true,
        "pycharm": {
          "name": "#%% md\n"
        },
        "id": "Q_dgd0ccYH84"
      },
      "source": [
        "# Linear Regression on Boston dataset\n"
      ]
    },
    {
      "cell_type": "code",
      "execution_count": 1,
      "outputs": [],
      "source": [
        "\n",
        "import tensorflow as tf\n",
        "import numpy as np\n",
        "import pandas as pd\n",
        "from sklearn.model_selection import train_test_split\n",
        "\n",
        "# Fetch the Boston housing dataset from the original source\n",
        "data_url = \"http://lib.stat.cmu.edu/datasets/boston\""
      ],
      "metadata": {
        "pycharm": {
          "name": "#%%\n"
        },
        "id": "ddMCBJpUYH85"
      }
    },
    {
      "cell_type": "code",
      "source": [
        "# prompt: top 10 rows of the data\n",
        "\n",
        "import pandas as pd\n",
        "import numpy as np\n",
        "raw_df = pd.read_csv(data_url, sep=\"\\s+\", skiprows=22, header=None)\n",
        "data = np.hstack([raw_df.values[::2, :], raw_df.values[1::2, :2]])\n",
        "target = raw_df.values[1::2, 2]\n",
        "\n",
        "# Create a Pandas DataFrame for better visualization\n",
        "feature_names = ['CRIM', 'ZN', 'INDUS', 'CHAS', 'NOX', 'RM', 'AGE', 'DIS', 'RAD', 'TAX', 'PTRATIO', 'B', 'LSTAT']\n",
        "df = pd.DataFrame(data, columns=feature_names)\n",
        "df['MEDV'] = target\n",
        "\n",
        "# Display the top 10 rows\n",
        "print(df.head(10))"
      ],
      "metadata": {
        "id": "0T0zfKeQYI_P",
        "outputId": "be2d5988-c089-4da3-d066-e3396ede5458",
        "colab": {
          "base_uri": "https://localhost:8080/"
        }
      },
      "execution_count": 2,
      "outputs": [
        {
          "output_type": "stream",
          "name": "stdout",
          "text": [
            "      CRIM    ZN  INDUS  CHAS    NOX     RM    AGE     DIS  RAD    TAX  \\\n",
            "0  0.00632  18.0   2.31   0.0  0.538  6.575   65.2  4.0900  1.0  296.0   \n",
            "1  0.02731   0.0   7.07   0.0  0.469  6.421   78.9  4.9671  2.0  242.0   \n",
            "2  0.02729   0.0   7.07   0.0  0.469  7.185   61.1  4.9671  2.0  242.0   \n",
            "3  0.03237   0.0   2.18   0.0  0.458  6.998   45.8  6.0622  3.0  222.0   \n",
            "4  0.06905   0.0   2.18   0.0  0.458  7.147   54.2  6.0622  3.0  222.0   \n",
            "5  0.02985   0.0   2.18   0.0  0.458  6.430   58.7  6.0622  3.0  222.0   \n",
            "6  0.08829  12.5   7.87   0.0  0.524  6.012   66.6  5.5605  5.0  311.0   \n",
            "7  0.14455  12.5   7.87   0.0  0.524  6.172   96.1  5.9505  5.0  311.0   \n",
            "8  0.21124  12.5   7.87   0.0  0.524  5.631  100.0  6.0821  5.0  311.0   \n",
            "9  0.17004  12.5   7.87   0.0  0.524  6.004   85.9  6.5921  5.0  311.0   \n",
            "\n",
            "   PTRATIO       B  LSTAT  MEDV  \n",
            "0     15.3  396.90   4.98  24.0  \n",
            "1     17.8  396.90   9.14  21.6  \n",
            "2     17.8  392.83   4.03  34.7  \n",
            "3     18.7  394.63   2.94  33.4  \n",
            "4     18.7  396.90   5.33  36.2  \n",
            "5     18.7  394.12   5.21  28.7  \n",
            "6     15.2  395.60  12.43  22.9  \n",
            "7     15.2  396.90  19.15  27.1  \n",
            "8     15.2  386.63  29.93  16.5  \n",
            "9     15.2  386.71  17.10  18.9  \n"
          ]
        }
      ]
    },
    {
      "cell_type": "code",
      "source": [
        "# prompt: how many samples and features does this data have?\n",
        "\n",
        "print(f\"Number of samples: {df.shape[0]}\")\n",
        "print(f\"Number of features: {df.shape[1] -1}\") # Subtract 1 for the target variable"
      ],
      "metadata": {
        "id": "g2U8SjEAYgX9",
        "outputId": "6500341f-b48b-4f30-90d4-6098df358d29",
        "colab": {
          "base_uri": "https://localhost:8080/"
        }
      },
      "execution_count": 3,
      "outputs": [
        {
          "output_type": "stream",
          "name": "stdout",
          "text": [
            "Number of samples: 506\n",
            "Number of features: 13\n"
          ]
        }
      ]
    },
    {
      "cell_type": "code",
      "source": [
        "# prompt: Build a linear regression model to predict target variable MEDV\n",
        "\n",
        "import numpy as np\n",
        "from sklearn.linear_model import LinearRegression\n",
        "from sklearn.metrics import mean_squared_error, r2_score\n",
        "\n",
        "# Define features (X) and target (y)\n",
        "X = df[feature_names]\n",
        "y = df['MEDV']\n",
        "\n",
        "# Split the data into training and testing sets\n",
        "X_train, X_test, y_train, y_test = train_test_split(X, y, test_size=0.2, random_state=42)\n",
        "\n",
        "# Initialize and train the Linear Regression model\n",
        "model = LinearRegression()\n",
        "model.fit(X_train, y_train)\n",
        "\n",
        "# Make predictions on the test set\n",
        "y_pred = model.predict(X_test)\n",
        "\n",
        "# Evaluate the model\n",
        "mse = mean_squared_error(y_test, y_pred)\n",
        "rmse = np.sqrt(mse)\n",
        "r2 = r2_score(y_test, y_pred)\n",
        "\n",
        "print(f\"\\nModel Evaluation:\")\n",
        "print(f\"Mean Squared Error (MSE): {mse:.2f}\")\n",
        "print(f\"Root Mean Squared Error (RMSE): {rmse:.2f}\")\n",
        "print(f\"R-squared (R2): {r2:.2f}\")\n",
        "\n",
        "# Print the model's coefficients and intercept\n",
        "print(f\"\\nModel Coefficients:\")\n",
        "for feature, coef in zip(feature_names, model.coef_):\n",
        "  print(f\"{feature}: {coef:.4f}\")\n",
        "print(f\"Intercept: {model.intercept_:.4f}\")"
      ],
      "metadata": {
        "id": "fE5ygyjkYx4v",
        "outputId": "1978ae38-a58b-491e-f31d-bee7a0d783be",
        "colab": {
          "base_uri": "https://localhost:8080/"
        }
      },
      "execution_count": 4,
      "outputs": [
        {
          "output_type": "stream",
          "name": "stdout",
          "text": [
            "\n",
            "Model Evaluation:\n",
            "Mean Squared Error (MSE): 24.29\n",
            "Root Mean Squared Error (RMSE): 4.93\n",
            "R-squared (R2): 0.67\n",
            "\n",
            "Model Coefficients:\n",
            "CRIM: -0.1131\n",
            "ZN: 0.0301\n",
            "INDUS: 0.0404\n",
            "CHAS: 2.7844\n",
            "NOX: -17.2026\n",
            "RM: 4.4388\n",
            "AGE: -0.0063\n",
            "DIS: -1.4479\n",
            "RAD: 0.2624\n",
            "TAX: -0.0106\n",
            "PTRATIO: -0.9155\n",
            "B: 0.0124\n",
            "LSTAT: -0.5086\n",
            "Intercept: 30.2468\n"
          ]
        }
      ]
    },
    {
      "cell_type": "code",
      "source": [
        "# prompt: Build a linear regression model to predict target variable MEDV using Keras\n",
        "\n",
        "import numpy as np\n",
        "from tensorflow.keras.models import Sequential\n",
        "from tensorflow.keras.layers import Dense\n",
        "\n",
        "# Define the Keras model\n",
        "keras_model = Sequential([\n",
        "    Dense(1, input_shape=(X_train.shape[1],))\n",
        "])\n",
        "\n",
        "# Compile the model\n",
        "keras_model.compile(optimizer='adam', loss='mse')\n",
        "\n",
        "# Train the model\n",
        "history = keras_model.fit(X_train, y_train, epochs=100, verbose=0)\n",
        "\n",
        "# Make predictions on the test set\n",
        "y_pred_keras = keras_model.predict(X_test).flatten()\n",
        "\n",
        "# Evaluate the model\n",
        "mse_keras = mean_squared_error(y_test, y_pred_keras)\n",
        "rmse_keras = np.sqrt(mse_keras)\n",
        "r2_keras = r2_score(y_test, y_pred_keras)\n",
        "\n",
        "print(f\"\\nKeras Model Evaluation:\")\n",
        "print(f\"Mean Squared Error (MSE): {mse_keras:.2f}\")\n",
        "print(f\"Root Mean Squared Error (RMSE): {rmse_keras:.2f}\")\n",
        "print(f\"R-squared (R2): {r2_keras:.2f}\")\n",
        "\n",
        "# Print the model's weights and bias (coefficients and intercept)\n",
        "# The single weight corresponds to the coefficients, and the bias is the intercept\n",
        "print(f\"\\nKeras Model Weights and Bias:\")\n",
        "weights, bias = keras_model.layers[0].get_weights()\n",
        "print(f\"Weights (Coefficients): {weights.flatten()}\")\n",
        "print(f\"Bias (Intercept): {bias[0]}\")"
      ],
      "metadata": {
        "id": "F_E--n8AZdsJ",
        "outputId": "58496705-fda6-4630-c714-39b58f92f8ef",
        "colab": {
          "base_uri": "https://localhost:8080/"
        }
      },
      "execution_count": 5,
      "outputs": [
        {
          "output_type": "stream",
          "name": "stderr",
          "text": [
            "/usr/local/lib/python3.11/dist-packages/keras/src/layers/core/dense.py:87: UserWarning: Do not pass an `input_shape`/`input_dim` argument to a layer. When using Sequential models, prefer using an `Input(shape)` object as the first layer in the model instead.\n",
            "  super().__init__(activity_regularizer=activity_regularizer, **kwargs)\n"
          ]
        },
        {
          "output_type": "stream",
          "name": "stdout",
          "text": [
            "\u001b[1m4/4\u001b[0m \u001b[32m━━━━━━━━━━━━━━━━━━━━\u001b[0m\u001b[37m\u001b[0m \u001b[1m0s\u001b[0m 12ms/step\n",
            "\n",
            "Keras Model Evaluation:\n",
            "Mean Squared Error (MSE): 563.72\n",
            "Root Mean Squared Error (RMSE): 23.74\n",
            "R-squared (R2): -6.69\n",
            "\n",
            "Keras Model Weights and Bias:\n",
            "Weights (Coefficients): [-0.78929     0.21063288 -0.40714538  0.28147876 -0.3140664  -0.6321782\n",
            " -0.37724945  0.48149294 -0.42810455  0.20073998 -0.37020236 -0.02552201\n",
            " -0.56949246]\n",
            "Bias (Intercept): -0.10965115576982498\n"
          ]
        }
      ]
    },
    {
      "cell_type": "code",
      "source": [],
      "metadata": {
        "id": "qAA8z82Cbx4f"
      },
      "execution_count": null,
      "outputs": []
    }
  ],
  "metadata": {
    "kernelspec": {
      "display_name": "Python 3",
      "language": "python",
      "name": "python3"
    },
    "language_info": {
      "codemirror_mode": {
        "name": "ipython",
        "version": 2
      },
      "file_extension": ".py",
      "mimetype": "text/x-python",
      "name": "python",
      "nbconvert_exporter": "python",
      "pygments_lexer": "ipython2",
      "version": "2.7.6"
    },
    "colab": {
      "provenance": []
    }
  },
  "nbformat": 4,
  "nbformat_minor": 0
}