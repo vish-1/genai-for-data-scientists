{
  "cells": [
    {
      "cell_type": "markdown",
      "id": "8601d189",
      "metadata": {
        "id": "8601d189"
      },
      "source": [
        "\n",
        "# TensorFlow 2 Exercises for Basic Tensor Manipulation\n",
        "\n",
        "This notebook provides a set of exercises designed to familiarize you with the basics of tensor manipulation in TensorFlow 2,\n",
        "which is essential for handling Large Language Models (LLMs).\n",
        "\n",
        "## Contents\n",
        "1. Tensor Basics\n",
        "2. Tensor Operations\n",
        "3. Manipulating Tensor Shapes\n",
        "4. Indexing and Slicing\n",
        "5. Broadcasting\n",
        "6. Data Loading and Preprocessing\n",
        "\n",
        "Each section will include a brief explanation followed by practical exercises.\n"
      ]
    },
    {
      "cell_type": "markdown",
      "id": "216324e4",
      "metadata": {
        "id": "216324e4"
      },
      "source": [
        "\n",
        "## 1. Tensor Basics\n",
        "\n",
        "**Objective**: Understand how to create tensors, and learn about their types and shapes.\n",
        "\n",
        "**Exercises**:\n",
        "1. Create a scalar tensor (0-D tensor) with a specific value.\n",
        "2. Create a 1-D tensor (vector) with 5 elements.\n",
        "3. Create a 2-D tensor (matrix) of shape (3, 3).\n",
        "4. Find the data type (`dtype`) of the tensors created above.\n",
        "5. Convert a numpy array to a TensorFlow tensor.\n"
      ]
    },
    {
      "cell_type": "code",
      "source": [
        "# prompt: Create a scalar tensor (0-D tensor) with a specific value\n",
        "\n",
        "import tensorflow as tf\n",
        "\n",
        "# Exercise 1: Create a scalar tensor\n",
        "scalar_tensor = tf.constant(10)\n",
        "print(\"Scalar Tensor:\", scalar_tensor)"
      ],
      "metadata": {
        "id": "fVZ1FO4UgYii",
        "outputId": "cf89e10c-1bdc-4fe6-8200-32eec518bc29",
        "colab": {
          "base_uri": "https://localhost:8080/"
        }
      },
      "id": "fVZ1FO4UgYii",
      "execution_count": 1,
      "outputs": [
        {
          "output_type": "stream",
          "name": "stdout",
          "text": [
            "Scalar Tensor: tf.Tensor(10, shape=(), dtype=int32)\n"
          ]
        }
      ]
    },
    {
      "cell_type": "code",
      "source": [
        "# prompt: Create a 1-D tensor (vector) with 5 elements\n",
        "\n",
        "# Exercise 2: Create a 1-D tensor (vector) with 5 elements\n",
        "vector_tensor = tf.constant([1, 2, 3, 4, 5])\n",
        "print(\"Vector Tensor:\", vector_tensor)"
      ],
      "metadata": {
        "id": "1ehkfRn7gkQt",
        "outputId": "84a76bb5-3d41-404c-af71-51f7d963b208",
        "colab": {
          "base_uri": "https://localhost:8080/"
        }
      },
      "id": "1ehkfRn7gkQt",
      "execution_count": 2,
      "outputs": [
        {
          "output_type": "stream",
          "name": "stdout",
          "text": [
            "Vector Tensor: tf.Tensor([1 2 3 4 5], shape=(5,), dtype=int32)\n"
          ]
        }
      ]
    },
    {
      "cell_type": "code",
      "source": [
        "# prompt: Create a 2-D tensor (matrix) of shape (3, 3) with random integers\n",
        "\n",
        "# Exercise 3: Create a 2-D tensor (matrix) of shape (3, 3)\n",
        "matrix_tensor = tf.random.uniform(shape=(3, 3), minval=0, maxval=10, dtype=tf.int32)\n",
        "print(\"Matrix Tensor:\\n\", matrix_tensor)"
      ],
      "metadata": {
        "id": "XuQuZkllgu7I",
        "outputId": "ed90c21c-850e-44b7-d41f-8f47070401c7",
        "colab": {
          "base_uri": "https://localhost:8080/"
        }
      },
      "id": "XuQuZkllgu7I",
      "execution_count": 3,
      "outputs": [
        {
          "output_type": "stream",
          "name": "stdout",
          "text": [
            "Matrix Tensor:\n",
            " tf.Tensor(\n",
            "[[7 6 2]\n",
            " [3 2 2]\n",
            " [2 7 2]], shape=(3, 3), dtype=int32)\n"
          ]
        }
      ]
    },
    {
      "cell_type": "code",
      "source": [
        "# prompt: Convert a numpy array to a TensorFlow tensor\n",
        "\n",
        "import numpy as np\n",
        "\n",
        "# Exercise 5: Convert a numpy array to a TensorFlow tensor\n",
        "numpy_array = np.array([[1, 2], [3, 4]])\n",
        "tensor_from_numpy = tf.convert_to_tensor(numpy_array)\n",
        "print(\"Tensor from NumPy array:\\n\", tensor_from_numpy)"
      ],
      "metadata": {
        "id": "a15Rrs_DhGHd",
        "outputId": "e6f180de-5464-4691-bff2-53603206fb7a",
        "colab": {
          "base_uri": "https://localhost:8080/"
        }
      },
      "id": "a15Rrs_DhGHd",
      "execution_count": 4,
      "outputs": [
        {
          "output_type": "stream",
          "name": "stdout",
          "text": [
            "Tensor from NumPy array:\n",
            " tf.Tensor(\n",
            "[[1 2]\n",
            " [3 4]], shape=(2, 2), dtype=int64)\n"
          ]
        }
      ]
    },
    {
      "cell_type": "markdown",
      "id": "02281206",
      "metadata": {
        "id": "02281206"
      },
      "source": [
        "\n",
        "## 2. Tensor Operations\n",
        "\n",
        "**Objective**: Perform basic arithmetic operations and learn some advanced operations.\n",
        "\n",
        "**Exercises**:\n",
        "1. Add, subtract, multiply, and divide two tensors.\n",
        "2. Compute the mean and standard deviation of a tensor.\n",
        "3. Apply a non-linear activation function (like ReLU) to a tensor.\n",
        "4. Perform matrix multiplication between two 2-D tensors.\n"
      ]
    },
    {
      "cell_type": "code",
      "source": [
        "# prompt: Add, subtract, multiply, and divide two tensors\n",
        "\n",
        "# Exercise 1: Add, subtract, multiply, and divide two tensors\n",
        "tensor_a = tf.constant([[1, 2], [3, 4]], dtype=tf.float32)\n",
        "tensor_b = tf.constant([[5, 6], [7, 8]], dtype=tf.float32)\n",
        "\n",
        "tensor_add = tf.add(tensor_a, tensor_b)\n",
        "tensor_subtract = tf.subtract(tensor_a, tensor_b)\n",
        "tensor_multiply = tf.multiply(tensor_a, tensor_b)\n",
        "tensor_divide = tf.divide(tensor_a, tensor_b)\n",
        "\n",
        "print(\"\\nTensor A:\\n\", tensor_a)\n",
        "print(\"Tensor B:\\n\", tensor_b)\n",
        "print(\"Tensor Add:\\n\", tensor_add)\n",
        "print(\"Tensor Subtract:\\n\", tensor_subtract)\n",
        "print(\"Tensor Multiply:\\n\", tensor_multiply)\n",
        "print(\"Tensor Divide:\\n\", tensor_divide)"
      ],
      "metadata": {
        "id": "fLAjy-7dhYXs",
        "outputId": "4d79483d-afd0-4619-c78a-6243f058a200",
        "colab": {
          "base_uri": "https://localhost:8080/"
        }
      },
      "id": "fLAjy-7dhYXs",
      "execution_count": 5,
      "outputs": [
        {
          "output_type": "stream",
          "name": "stdout",
          "text": [
            "\n",
            "Tensor A:\n",
            " tf.Tensor(\n",
            "[[1. 2.]\n",
            " [3. 4.]], shape=(2, 2), dtype=float32)\n",
            "Tensor B:\n",
            " tf.Tensor(\n",
            "[[5. 6.]\n",
            " [7. 8.]], shape=(2, 2), dtype=float32)\n",
            "Tensor Add:\n",
            " tf.Tensor(\n",
            "[[ 6.  8.]\n",
            " [10. 12.]], shape=(2, 2), dtype=float32)\n",
            "Tensor Subtract:\n",
            " tf.Tensor(\n",
            "[[-4. -4.]\n",
            " [-4. -4.]], shape=(2, 2), dtype=float32)\n",
            "Tensor Multiply:\n",
            " tf.Tensor(\n",
            "[[ 5. 12.]\n",
            " [21. 32.]], shape=(2, 2), dtype=float32)\n",
            "Tensor Divide:\n",
            " tf.Tensor(\n",
            "[[0.2        0.33333334]\n",
            " [0.42857143 0.5       ]], shape=(2, 2), dtype=float32)\n"
          ]
        }
      ]
    },
    {
      "cell_type": "code",
      "source": [
        "# prompt: Compute the mean and standard deviation of a tensor\n",
        "\n",
        "# Exercise 2: Compute the mean and standard deviation of a tensor\n",
        "tensor_c = tf.constant([[1.0, 2.0, 3.0], [4.0, 5.0, 6.0]])\n",
        "mean_c = tf.reduce_mean(tensor_c)\n",
        "stddev_c = tf.math.reduce_std(tensor_c)\n",
        "\n",
        "print(\"\\nTensor C:\\n\", tensor_c)\n",
        "print(\"Mean of Tensor C:\", mean_c.numpy())\n",
        "print(\"Standard Deviation of Tensor C:\", stddev_c.numpy())"
      ],
      "metadata": {
        "id": "YNVtMoLfhk8-",
        "outputId": "f2998001-d5fa-4593-c7b8-aca415f794ab",
        "colab": {
          "base_uri": "https://localhost:8080/"
        }
      },
      "id": "YNVtMoLfhk8-",
      "execution_count": 8,
      "outputs": [
        {
          "output_type": "stream",
          "name": "stdout",
          "text": [
            "\n",
            "Tensor C:\n",
            " tf.Tensor(\n",
            "[[1. 2. 3.]\n",
            " [4. 5. 6.]], shape=(2, 3), dtype=float32)\n",
            "Mean of Tensor C: 3.5\n",
            "Standard Deviation of Tensor C: 1.7078252\n"
          ]
        }
      ]
    },
    {
      "cell_type": "code",
      "source": [
        "# prompt: what is the datatype of stddev_c?\n",
        "\n",
        "print(type(stddev_c.numpy()))\n"
      ],
      "metadata": {
        "id": "sUvFuyRSiEpl",
        "outputId": "44513f3c-85bf-447b-bf50-87edd95adf90",
        "colab": {
          "base_uri": "https://localhost:8080/"
        }
      },
      "id": "sUvFuyRSiEpl",
      "execution_count": 10,
      "outputs": [
        {
          "output_type": "stream",
          "name": "stdout",
          "text": [
            "<class 'numpy.float32'>\n"
          ]
        }
      ]
    },
    {
      "cell_type": "code",
      "source": [
        "# prompt: Apply a non-linear activation function (like ReLU) to a tensor\n",
        "\n",
        "# Exercise 3: Apply a non-linear activation function (like ReLU) to a tensor\n",
        "tensor_d = tf.constant([[-1.0, 0.5, -2.0], [3.0, -0.5, 1.0]])\n",
        "relu_tensor_d = tf.nn.relu(tensor_d)\n",
        "\n",
        "print(\"\\nTensor D:\\n\", tensor_d)\n",
        "print(\"ReLU applied to Tensor D:\\n\", relu_tensor_d)"
      ],
      "metadata": {
        "id": "sjh68mQRk0Ho",
        "outputId": "c241e6b1-7b45-48be-8fc5-9d3baf0f882a",
        "colab": {
          "base_uri": "https://localhost:8080/"
        }
      },
      "id": "sjh68mQRk0Ho",
      "execution_count": 11,
      "outputs": [
        {
          "output_type": "stream",
          "name": "stdout",
          "text": [
            "\n",
            "Tensor D:\n",
            " tf.Tensor(\n",
            "[[-1.   0.5 -2. ]\n",
            " [ 3.  -0.5  1. ]], shape=(2, 3), dtype=float32)\n",
            "ReLU applied to Tensor D:\n",
            " tf.Tensor(\n",
            "[[0.  0.5 0. ]\n",
            " [3.  0.  1. ]], shape=(2, 3), dtype=float32)\n"
          ]
        }
      ]
    },
    {
      "cell_type": "code",
      "source": [
        "# prompt: Perform matrix multiplication between two 2-D tensors\n",
        "\n",
        "# Exercise 4: Perform matrix multiplication between two 2-D tensors\n",
        "tensor_e = tf.constant([[1, 2], [3, 4]])\n",
        "tensor_f = tf.constant([[5, 6], [7, 8]])\n",
        "\n",
        "matrix_multiply = tf.matmul(tensor_e, tensor_f)\n",
        "\n",
        "print(\"\\nTensor E:\\n\", tensor_e)\n",
        "print(\"Tensor F:\\n\", tensor_f)\n",
        "print(\"Matrix Multiplication (E @ F):\\n\", matrix_multiply)"
      ],
      "metadata": {
        "id": "RuvMuV60k9fA",
        "outputId": "e0739ea9-d446-41f7-aa49-b71b4520a51a",
        "colab": {
          "base_uri": "https://localhost:8080/"
        }
      },
      "id": "RuvMuV60k9fA",
      "execution_count": 12,
      "outputs": [
        {
          "output_type": "stream",
          "name": "stdout",
          "text": [
            "\n",
            "Tensor E:\n",
            " tf.Tensor(\n",
            "[[1 2]\n",
            " [3 4]], shape=(2, 2), dtype=int32)\n",
            "Tensor F:\n",
            " tf.Tensor(\n",
            "[[5 6]\n",
            " [7 8]], shape=(2, 2), dtype=int32)\n",
            "Matrix Multiplication (E @ F):\n",
            " tf.Tensor(\n",
            "[[19 22]\n",
            " [43 50]], shape=(2, 2), dtype=int32)\n"
          ]
        }
      ]
    },
    {
      "cell_type": "markdown",
      "id": "d4bd1425",
      "metadata": {
        "id": "d4bd1425"
      },
      "source": [
        "\n",
        "## 3. Manipulating Tensor Shapes\n",
        "\n",
        "**Objective**: Learn how to reshape and transpose tensors.\n",
        "\n",
        "**Exercises**:\n",
        "1. Create a tensor of shape (4, 4), then reshape it to (2, 8).\n",
        "2. Transpose a 2-D tensor.\n",
        "3. Flatten a 3-D tensor to a 1-D tensor.\n"
      ]
    },
    {
      "cell_type": "code",
      "source": [
        "# prompt: Create a tensor of shape (4, 4), then reshape it to (2, 8)\n",
        "\n",
        "# Exercise 1: Create a tensor of shape (4, 4), then reshape it to (2, 8)\n",
        "tensor_4x4 = tf.random.uniform(shape=(4, 4), minval=0, maxval=10, dtype=tf.int32)\n",
        "tensor_2x8 = tf.reshape(tensor_4x4, (2, 8))\n",
        "\n",
        "print(\"\\nOriginal Tensor (4x4):\\n\", tensor_4x4)\n",
        "print(\"Reshaped Tensor (2x8):\\n\", tensor_2x8)"
      ],
      "metadata": {
        "id": "4sSWmLcDlJZL",
        "outputId": "929f45fb-20fa-43ec-e33a-0cabed666574",
        "colab": {
          "base_uri": "https://localhost:8080/"
        }
      },
      "id": "4sSWmLcDlJZL",
      "execution_count": 13,
      "outputs": [
        {
          "output_type": "stream",
          "name": "stdout",
          "text": [
            "\n",
            "Original Tensor (4x4):\n",
            " tf.Tensor(\n",
            "[[1 5 7 0]\n",
            " [3 0 8 1]\n",
            " [2 4 3 5]\n",
            " [0 1 0 1]], shape=(4, 4), dtype=int32)\n",
            "Reshaped Tensor (2x8):\n",
            " tf.Tensor(\n",
            "[[1 5 7 0 3 0 8 1]\n",
            " [2 4 3 5 0 1 0 1]], shape=(2, 8), dtype=int32)\n"
          ]
        }
      ]
    },
    {
      "cell_type": "markdown",
      "id": "7c2af7ed",
      "metadata": {
        "id": "7c2af7ed"
      },
      "source": [
        "\n",
        "## 4. Indexing and Slicing\n",
        "\n",
        "**Objective**: Access specific elements or slices of a tensor.\n",
        "\n",
        "**Exercises**:\n",
        "1. Extract a specific element from a tensor.\n",
        "2. Slice a portion of a tensor.\n",
        "3. Use boolean tensor indexing to filter elements.\n"
      ]
    },
    {
      "cell_type": "markdown",
      "id": "dd6b95f3",
      "metadata": {
        "id": "dd6b95f3"
      },
      "source": [
        "\n",
        "## 5. Broadcasting\n",
        "\n",
        "**Objective**: Understand and apply broadcasting rules in tensor operations.\n",
        "\n",
        "**Exercises**:\n",
        "1. Perform an element-wise addition between tensors of different shapes.\n",
        "2. Broadcast a smaller tensor to match the shape of a larger tensor in an operation.\n"
      ]
    },
    {
      "cell_type": "markdown",
      "id": "978eb143",
      "metadata": {
        "id": "978eb143"
      },
      "source": [
        "## 6. Data Loading and Preprocessing\n",
        "\n",
        "**Objective**: Use `tf.data` for efficient data handling.\n",
        "\n",
        "**Exercises**:\n",
        "1. Create a simple dataset using `tf.data.Dataset`.\n",
        "2. Apply a transformation (like mapping) to the dataset.\n",
        "3. Batch and shuffle the dataset.\n"
      ]
    },
    {
      "cell_type": "code",
      "source": [],
      "metadata": {
        "id": "FgxSOrQneCW6"
      },
      "id": "FgxSOrQneCW6",
      "execution_count": null,
      "outputs": []
    }
  ],
  "metadata": {
    "colab": {
      "provenance": []
    },
    "language_info": {
      "name": "python"
    },
    "kernelspec": {
      "name": "python3",
      "display_name": "Python 3"
    }
  },
  "nbformat": 4,
  "nbformat_minor": 5
}