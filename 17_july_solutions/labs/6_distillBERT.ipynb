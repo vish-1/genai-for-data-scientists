{
 "cells": [
  {
   "cell_type": "markdown",
   "metadata": {
    "id": "QBT0kSX6UkRJ"
   },
   "source": [
    "# Modelling\n",
    "\n",
    "Prompt:\n",
    "\n",
    "Assume you are an expert in NLP in Tensorflow and Keras. For any input I will prompt, please share code that can solve that problem with Tensorflow and Keras.\n",
    "\n",
    "Prompt:\n",
    "\n",
    "Please create code that downloads the yelp dataset from this link https://www.dropbox.com/s/xds4lua69b7okw8/yelp.csv?dl=0, which is csv format. Preprocess the reviews by:\n",
    "\n",
    "- removing links\n",
    "- removing punctuation\n",
    "- removing stopwords\n",
    "- ensuring alphanumerical characters only are allowed\n",
    "- lowercases every word\n",
    "\n",
    "And apply to the dataset. Later use Keras tokenizer to tokenize each review into a tensor of its IDs. Ensure the vocabulary are all the words that have a frequency of at least 5 words and the tensor of IDs doesn't truncate any review. Ensure finally all reviews are padded\n",
    "\n",
    "Prompt:\n",
    "\n",
    "Now let's change our approach, and we will do transfer learning on distillbert to do sentiment analysis. Use the model distilbert-base-uncased-finetuned-sst-2-english as base and add a head of size 2 to predict sentiment. Remember to use Tensorflow and Keras and perform the training"
   ]
  },
  {
   "cell_type": "code",
   "execution_count": null,
   "metadata": {
    "id": "ipxwHoE9HUCF",
    "pycharm": {
     "name": "#%%\n"
    }
   },
   "outputs": [],
   "source": [
    "!pip install transformers"
   ]
  },
  {
   "cell_type": "code",
   "execution_count": null,
   "metadata": {
    "pycharm": {
     "name": "#%%\n"
    }
   },
   "outputs": [],
   "source": [
    "import tensorflow as tf\n",
    "from transformers import TFDistilBertForSequenceClassification, DistilBertConfig, DistilBertTokenizerFast\n",
    "from tensorflow.keras.optimizers import Adam\n",
    "from sklearn.model_selection import train_test_split\n",
    "import pandas as pd\n",
    "import numpy as np\n",
    "import re\n",
    "import nltk\n",
    "from nltk.corpus import stopwords\n",
    "from tensorflow.keras.preprocessing.text import Tokenizer\n",
    "from tensorflow.keras.preprocessing.sequence import pad_sequences\n",
    "import urllib.request\n",
    "\n",
    "# Downloading nltk stopwords\n",
    "nltk.download('stopwords')\n",
    "\n",
    "# Set of stopwords\n",
    "stop_words = set(stopwords.words('english'))\n",
    "\n",
    "def preprocess_text(text):\n",
    "    \"\"\"\n",
    "    Preprocess a single review:\n",
    "    - Lowercasing\n",
    "    - Removing links\n",
    "    - Removing punctuation\n",
    "    - Removing non-alphanumerical characters\n",
    "    - Removing stopwords\n",
    "    \"\"\"\n",
    "    text = text.lower()\n",
    "    text = re.sub(r'http\\S+', '', text)  # Remove links\n",
    "    text = re.sub(r'[^\\w\\s]', '', text)  # Remove punctuation\n",
    "    text = re.sub(r'\\W*\\b\\w{1,2}\\b', '', text)  # Remove words with 1 or 2 letters\n",
    "    text = re.sub(r\"[^a-zA-Z.,&!?]+\", r\" \", text) # Ensure only alphanumerical characters\n",
    "    text = ' '.join([word for word in text.split() if word not in stop_words])\n",
    "    return text\n",
    "\n",
    "# Load the Yelp dataset\n",
    "yelp_data = pd.read_csv(file_path) #use the yelp.csv in the data folder. You will need to download it/upload to colab\n",
    "\n",
    "# Preprocess the reviews\n",
    "yelp_data['processed_reviews'] = yelp_data['text'].apply(preprocess_text)\n",
    "\n",
    "yelp_data"
   ]
  },
  {
   "cell_type": "code",
   "execution_count": null,
   "metadata": {
    "pycharm": {
     "name": "#%%\n"
    }
   },
   "outputs": [],
   "source": [
    "# Load the tokenizer\n",
    "tokenizer = DistilBertTokenizerFast.from_pretrained('distilbert-base-uncased-finetuned-sst-2-english')\n",
    "\n",
    "# Tokenize the dataset\n",
    "def tokenize_reviews(reviews):\n",
    "    return tokenizer(reviews, padding=True, truncation=True, return_tensors='tf')\n",
    "\n",
    "# Tokenize Yelp reviews\n",
    "tokenized_reviews = tokenize_reviews(yelp_data['processed_reviews'].tolist())"
   ]
  },
  {
   "cell_type": "code",
   "execution_count": null,
   "metadata": {
    "pycharm": {
     "name": "#%%\n"
    }
   },
   "outputs": [],
   "source": [
    "yelp_data['binary_labels'] = yelp_data['stars'].apply(lambda x: 1 if x > 3 else 0)\n",
    "labels = np.array(yelp_data['binary_labels'])\n",
    "\n",
    "train_reviews, val_reviews, train_labels, val_labels = train_test_split(tokenized_reviews['input_ids'], labels, test_size=0.2)"
   ]
  },
  {
   "cell_type": "code",
   "execution_count": null,
   "metadata": {
    "pycharm": {
     "name": "#%%\n"
    }
   },
   "outputs": [],
   "source": [
    "# Load the pre-trained DistilBERT model\n",
    "model = TFDistilBertForSequenceClassification.from_pretrained('distilbert-base-uncased-finetuned-sst-2-english', num_labels=2)\n",
    "\n",
    "# Compile the model\n",
    "optimizer = Adam(learning_rate=5e-5)\n",
    "model.compile(optimizer=optimizer, loss='binary_crossentropy', metrics=['accuracy'])\n",
    "\n",
    "# Train the model\n",
    "model.fit(train_reviews, train_labels, epochs=3, batch_size=32, validation_data=(val_reviews, val_labels))"
   ]
  }
 ],
 "metadata": {
  "colab": {
   "provenance": []
  },
  "kernelspec": {
   "display_name": "Python 3",
   "language": "python",
   "name": "python3"
  },
  "language_info": {
   "codemirror_mode": {
    "name": "ipython",
    "version": 3
   },
   "file_extension": ".py",
   "mimetype": "text/x-python",
   "name": "python",
   "nbconvert_exporter": "python",
   "pygments_lexer": "ipython3",
   "version": "3.7.6"
  }
 },
 "nbformat": 4,
 "nbformat_minor": 4
}
